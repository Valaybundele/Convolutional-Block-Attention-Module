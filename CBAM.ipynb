{
  "nbformat": 4,
  "nbformat_minor": 0,
  "metadata": {
    "colab": {
      "name": "CBAM",
      "provenance": [],
      "authorship_tag": "ABX9TyOWM2G06PhZ9wtvmwzKqaF1"
    },
    "kernelspec": {
      "name": "python3",
      "display_name": "Python 3"
    }
  },
  "cells": [
    {
      "cell_type": "code",
      "metadata": {
        "id": "V6WuVKTEIiRA",
        "colab_type": "code",
        "colab": {}
      },
      "source": [
        "import tensorflow as tf\n",
        "from tensorflow.keras.layers import GlobalAveragePooling2D, GlobalMaxPool2D, Activation, AveragePooling2D, MaxPool2D, Dense, Conv2D,Lambda"
      ],
      "execution_count": 31,
      "outputs": []
    },
    {
      "cell_type": "code",
      "metadata": {
        "id": "K7twx99mInRR",
        "colab_type": "code",
        "colab": {}
      },
      "source": [
        "class Channel_Attention(tf.keras.layers.Layer) : # Channel attention module assuming the input dimensions to have channels-last order\n",
        "  def __init__(self,C,ratio) :\n",
        "    super(Channel_Attention,self).__init__()\n",
        "    self.avg_pool = GlobalAveragePooling2D()\n",
        "    self.max_pool = GlobalMaxPool2D()\n",
        "    self.activation = Activation('sigmoid')\n",
        "    self.fc1 = Dense(C/ratio, activation = 'relu')\n",
        "    self.fc2 = Dense(C)\n",
        "  \n",
        "  def call(self,x) :\n",
        "    avg_out1 = self.avg_pool(x)\n",
        "    avg_out2 = self.fc1(avg_out1)\n",
        "    avg_out3 = self.fc2(avg_out2)\n",
        "    max_out1 = self.max_pool(x)\n",
        "    max_out2 = self.fc1(max_out1)\n",
        "    max_out3 = self.fc2(max_out2)\n",
        "    add_out = tf.math.add(max_out3,avg_out3)\n",
        "    channel_att = self.activation(add_out)\n",
        "    return channel_att  "
      ],
      "execution_count": 66,
      "outputs": []
    },
    {
      "cell_type": "code",
      "metadata": {
        "id": "Cvyr5refKRTo",
        "colab_type": "code",
        "colab": {}
      },
      "source": [
        "class Spatial_Attention(tf.keras.layers.Layer) : # spatial attention module assuming the input dimensions to have channels-last order\n",
        "  def __init__(self) :\n",
        "    super(Spatial_Attention,self).__init__()\n",
        "    self.conv2d = Conv2D(1,(7,7),padding='same',activation='sigmoid')\n",
        "    self.avg_pool_chl = Lambda(lambda x:tf.keras.backend.mean(x,axis=3,keepdims=True)) # avg-pooling along channel axis\n",
        "    self.max_pool_chl = Lambda(lambda x:tf.keras.backend.max(x,axis=3,keepdims=True))  # max-pooling along channel axis\n",
        "  \n",
        "  def call(self,x) :\n",
        "    avg_out1 = self.avg_pool_chl(x)\n",
        "    max_out1 = self.max_pool_chl(x)\n",
        "    concat_out = tf.concat([avg_out1,max_out1],axis=-1)\n",
        "    spatial_att = self.conv2d(concat_out)\n",
        "    return spatial_att "
      ],
      "execution_count": 67,
      "outputs": []
    },
    {
      "cell_type": "code",
      "metadata": {
        "id": "ROkCMBHwjqdW",
        "colab_type": "code",
        "colab": {}
      },
      "source": [
        "class CBAM(tf.keras.layers.Layer) : # convolutional block attention module assuming the input dimensions to have channels-last order \n",
        "  def __init__(self,C,ratio) :\n",
        "    super(CBAM,self).__init__()\n",
        "    self.C = C\n",
        "    self.ratio = ratio\n",
        "    self.channel_attention = Channel_Attention(self.C,self.ratio)\n",
        "    self.spatial_attention = Spatial_Attention()\n",
        "  def call(self,y,H,W,C) :\n",
        "    ch_out1 = self.channel_attention(y)\n",
        "    ch_out2 = tf.expand_dims(ch_out1, axis=1)\n",
        "    ch_out3 = tf.expand_dims(ch_out2, axis=2)\n",
        "    ch_out4 = tf.tile(ch_out3, multiples=[1,H,W,1])\n",
        "    ch_out5 = tf.math.multiply(ch_out4,y)\n",
        "    sp_out1 = self.spatial_attention(ch_out5)\n",
        "    sp_out2 = tf.tile(sp_out1, multiples = [1,1,1,C])\n",
        "    sp_out3 = tf.math.multiply(sp_out2,ch_out5)\n",
        "    return sp_out3        "
      ],
      "execution_count": 68,
      "outputs": []
    },
    {
      "cell_type": "code",
      "metadata": {
        "id": "MKK2q4KIqDrP",
        "colab_type": "code",
        "colab": {}
      },
      "source": [
        "inputs = tf.keras.Input(shape=(15,15,64))"
      ],
      "execution_count": 59,
      "outputs": []
    },
    {
      "cell_type": "code",
      "metadata": {
        "id": "7lRUVYf12aHm",
        "colab_type": "code",
        "colab": {}
      },
      "source": [
        "channel_atts = Channel_Attention(64,16)\n",
        "spatial_atts = Spatial_Attention()\n",
        "cbam = CBAM(64,16)"
      ],
      "execution_count": 60,
      "outputs": []
    },
    {
      "cell_type": "code",
      "metadata": {
        "id": "gJiPC2Qk2tr2",
        "colab_type": "code",
        "colab": {
          "base_uri": "https://localhost:8080/",
          "height": 34
        },
        "outputId": "55919de9-0880-4e98-bb86-a166c9f2468e"
      },
      "source": [
        "channel_atts(inputs).shape"
      ],
      "execution_count": 61,
      "outputs": [
        {
          "output_type": "execute_result",
          "data": {
            "text/plain": [
              "TensorShape([None, 64])"
            ]
          },
          "metadata": {
            "tags": []
          },
          "execution_count": 61
        }
      ]
    },
    {
      "cell_type": "code",
      "metadata": {
        "id": "y40MUMl6qLq-",
        "colab_type": "code",
        "colab": {
          "base_uri": "https://localhost:8080/",
          "height": 34
        },
        "outputId": "380bccde-8d41-4c51-b833-0f6003a6fe39"
      },
      "source": [
        "spatial_atts(inputs).shape"
      ],
      "execution_count": 62,
      "outputs": [
        {
          "output_type": "execute_result",
          "data": {
            "text/plain": [
              "TensorShape([None, 15, 15, 1])"
            ]
          },
          "metadata": {
            "tags": []
          },
          "execution_count": 62
        }
      ]
    },
    {
      "cell_type": "code",
      "metadata": {
        "id": "sLsWYeE6qYky",
        "colab_type": "code",
        "colab": {
          "base_uri": "https://localhost:8080/",
          "height": 34
        },
        "outputId": "2befbc4e-d1b3-4920-fef3-35db689fa73c"
      },
      "source": [
        "cbam(inputs,15,15,64).shape"
      ],
      "execution_count": 63,
      "outputs": [
        {
          "output_type": "execute_result",
          "data": {
            "text/plain": [
              "TensorShape([None, 15, 15, 64])"
            ]
          },
          "metadata": {
            "tags": []
          },
          "execution_count": 63
        }
      ]
    }
  ]
}